{
 "cells": [
  {
   "cell_type": "markdown",
   "id": "82077324-d13c-4e06-8b92-729c1a092fcb",
   "metadata": {},
   "source": [
    "# BAN6800-Module-5-Business Analytics Model Results Communication\n",
    "# ---- REPORTS & DASHBOARD ----\n",
    "## Shield360 Project - Subscriber Churn Prediction Model\n",
    "## Voke H Edafejimue"
   ]
  },
  {
   "cell_type": "markdown",
   "id": "6d2ba33a-784b-40be-8d41-64a05611070a",
   "metadata": {},
   "source": [
    "### IMPORT LIBRARIES"
   ]
  },
  {
   "cell_type": "code",
   "execution_count": 51,
   "id": "9dd553ec-ae8a-4d7a-a1e9-c941a319fd07",
   "metadata": {},
   "outputs": [],
   "source": [
    "import pandas as pd\n",
    "import matplotlib.pyplot as plt\n",
    "import seaborn as sns\n",
    "import joblib\n",
    "import pickle\n",
    "import plotly.express as px\n",
    "import plotly.graph_objs as go\n",
    "from dash.dependencies import Input, Output\n",
    "import numpy as np\n",
    "import dash\n",
    "from dash import Dash, dcc, html\n",
    "import dash_bootstrap_components as dbc\n",
    "import plotly.graph_objs as go"
   ]
  },
  {
   "cell_type": "markdown",
   "id": "b919a1ca-1e66-4c57-8d27-545b6a988793",
   "metadata": {},
   "source": [
    "###  Load Dataset"
   ]
  },
  {
   "cell_type": "code",
   "execution_count": 53,
   "id": "5b32028e-70eb-4263-910b-d3558a905b2d",
   "metadata": {},
   "outputs": [
    {
     "data": {
      "text/plain": [
       "(7043, 76)"
      ]
     },
     "execution_count": 53,
     "metadata": {},
     "output_type": "execute_result"
    }
   ],
   "source": [
    "#Load the dataset\n",
    "df = pd.read_csv(\"telco_churn_cleaned.csv\")\n",
    "df.shape"
   ]
  },
  {
   "cell_type": "markdown",
   "id": "b86517b2-9533-4a08-93a1-7db364395e58",
   "metadata": {},
   "source": [
    "### Load the Saved Model and its features"
   ]
  },
  {
   "cell_type": "code",
   "execution_count": 61,
   "id": "6498d212-8c8e-4375-a873-a8c414f0c0c8",
   "metadata": {},
   "outputs": [
    {
     "name": "stdout",
     "output_type": "stream",
     "text": [
      "<class 'sklearn.ensemble._gb.GradientBoostingClassifier'>\n",
      "[1 1 1 ... 0 0 0]\n"
     ]
    }
   ],
   "source": [
    "# Load the feature list used during training\n",
    "import pickle\n",
    "with open('gbdt_features.pkl', 'rb') as f:\n",
    "    feature_names = pickle.load(f)\n",
    "\n",
    "# One-hot encode or preprocess the same way as training\n",
    "df_encoded = pd.get_dummies(df)\n",
    "\n",
    "# Align columns to match the training features (fill missing ones with 0)\n",
    "for col in feature_names:\n",
    "    if col not in df_encoded.columns:\n",
    "        df_encoded[col] = 0\n",
    "\n",
    "df_encoded = df_encoded[feature_names]\n",
    "\n",
    "# Load model\n",
    "with open('gbdt_model.pkl', 'rb') as f:\n",
    "    gbdt_model = pickle.load(f)\n",
    "\n",
    "# Check if the model is loaded correctly by printing its type\n",
    "print(type(gbdt_model))\n",
    "\n",
    "\n",
    "# Predict\n",
    "y_pred = gbdt_model.predict(df_encoded)\n",
    "\n",
    "\n",
    "# Filter your new data to match the trained feature set\n",
    "X_pred = df[feature_names]\n",
    "\n",
    "\n",
    "# Print the predictions\n",
    "print(y_pred)"
   ]
  },
  {
   "cell_type": "markdown",
   "id": "5cde992d-f827-4991-bd6e-b43686d634e3",
   "metadata": {},
   "source": [
    "## Business Analytics Model Results Communication"
   ]
  },
  {
   "cell_type": "markdown",
   "id": "b97d407d-d717-45a7-b0fe-c551ba93e618",
   "metadata": {},
   "source": [
    "### Report 1"
   ]
  },
  {
   "cell_type": "code",
   "execution_count": 63,
   "id": "592ce394-088c-4143-b2ed-041c89e1200d",
   "metadata": {},
   "outputs": [
    {
     "data": {
      "text/html": [
       "\n",
       "        <iframe\n",
       "            width=\"100%\"\n",
       "            height=\"650\"\n",
       "            src=\"http://127.0.0.1:8055/\"\n",
       "            frameborder=\"0\"\n",
       "            allowfullscreen\n",
       "            \n",
       "        ></iframe>\n",
       "        "
      ],
      "text/plain": [
       "<IPython.lib.display.IFrame at 0x1db4223b350>"
      ]
     },
     "metadata": {},
     "output_type": "display_data"
    }
   ],
   "source": [
    "# Cost of Subscriber Acquisition vs Subscriber Retention Analysis\n",
    "# App initialization\n",
    "app = dash.Dash(__name__, external_stylesheets=[dbc.themes.BOOTSTRAP])\n",
    "server = app.server\n",
    "\n",
    "# Infographic layout\n",
    "app.layout = dbc.Container([\n",
    "    html.H1(\"📊 Cost of Subscriber Acquisition vs Subscriber Retention\", className='text-center text-primary mb-4'),\n",
    "\n",
    "    dbc.Row([\n",
    "        # Retention Block\n",
    "        dbc.Col([\n",
    "            dbc.Card([\n",
    "                dbc.CardHeader(\"✅ Subscriber Retention\", className=\"bg-success text-white\"),\n",
    "                dbc.CardBody([\n",
    "                    html.H3(\"$50 – $100\", className=\"text-success\"),\n",
    "                    html.P(\"Cost to retain an existing subscriber\"),\n",
    "                    html.P(\"5% increase in retention = up to 95% profit increase\", className=\"text-muted small\"),\n",
    "                    html.Img(src=\"https://img.icons8.com/fluency/96/handshake.png\", height=\"60px\")\n",
    "                ])\n",
    "            ])\n",
    "        ], width=6),\n",
    "\n",
    "        # Acquisition Block\n",
    "        dbc.Col([\n",
    "            dbc.Card([\n",
    "                dbc.CardHeader(\"❌ Subscriber Acquisition\", className=\"bg-danger text-white\"),\n",
    "                dbc.CardBody([\n",
    "                    html.H3(\"$400 – $700\", className=\"text-danger\"),\n",
    "                    html.P(\"Cost to acquire a new subscriber\"),\n",
    "                    html.P(\"Ads, sales, onboarding & incentives needed\", className=\"text-muted small\"),\n",
    "                    html.Img(src=\"https://img.icons8.com/fluency/96/customer-insight.png\", height=\"60px\")\n",
    "                ])\n",
    "            ])\n",
    "        ], width=6),\n",
    "    ], className=\"mb-4\"),\n",
    "\n",
    "    # Bar Comparison Chart\n",
    "    dbc.Row([\n",
    "        dbc.Col([\n",
    "            dcc.Graph(\n",
    "                figure=go.Figure(data=[\n",
    "                    go.Bar(name='Retention', x=['Retention'], y=[100], marker_color='green'),\n",
    "                    go.Bar(name='Acquisition', x=['Acquisition'], y=[500], marker_color='red')\n",
    "                ]).update_layout(\n",
    "                    title='Cost Comparison (USD)',\n",
    "                    yaxis_title='Average Cost per Subscriber ($)',\n",
    "                    barmode='group'\n",
    "                )\n",
    "            )\n",
    "        ])\n",
    "    ]),\n",
    "\n",
    "    html.Div([\n",
    "        html.P(\"📌 Source: Bain & Company, Forbes, HubSpot\", className=\"text-muted text-center\")\n",
    "    ])\n",
    "], fluid=True)\n",
    "\n",
    "# Run\n",
    "if __name__ == '__main__':\n",
    "    app.run(debug=True, port=8055)"
   ]
  },
  {
   "cell_type": "markdown",
   "id": "cb90f153-e3c8-4660-9669-db4347022397",
   "metadata": {},
   "source": [
    "### Report 2"
   ]
  },
  {
   "cell_type": "code",
   "execution_count": 93,
   "id": "68fafdfc-5f33-4e2f-a281-a75731289c8d",
   "metadata": {},
   "outputs": [
    {
     "data": {
      "text/html": [
       "\n",
       "        <iframe\n",
       "            width=\"100%\"\n",
       "            height=\"650\"\n",
       "            src=\"http://127.0.0.1:8058/\"\n",
       "            frameborder=\"0\"\n",
       "            allowfullscreen\n",
       "            \n",
       "        ></iframe>\n",
       "        "
      ],
      "text/plain": [
       "<IPython.lib.display.IFrame at 0x1db473d4c50>"
      ]
     },
     "metadata": {},
     "output_type": "display_data"
    }
   ],
   "source": [
    "# Scenario 1: Churn Overview & Current Situation\n",
    "# Calculate churn rates by gender\n",
    "churn_rate = df.groupby('Gender')['Churn Value'].value_counts(normalize=True).unstack().fillna(0).reset_index()\n",
    "df['Gender'] = df['Gender'].replace({0: 'Male', 1: 'Female'})\n",
    "\n",
    "# Rename columns for clarity\n",
    "churn_rate.columns = ['Gender', 'Not Churned', 'Churned']\n",
    "\n",
    "# Reshape the DataFrame for Plotly\n",
    "churn_rate_melted = churn_rate.melt(id_vars='Gender', \n",
    "                                     value_vars=['Churned', 'Not Churned'], \n",
    "                                     var_name='Churn Status', \n",
    "                                     value_name='Rate')\n",
    "\n",
    "# Create the bar chart\n",
    "fig1 = px.bar(churn_rate_melted, \n",
    "              x='Gender', \n",
    "              y='Rate', \n",
    "              color='Churn Status', \n",
    "              barmode='stack',\n",
    "              title=\"Churn Rate by Gender\")\n",
    "\n",
    "\n",
    "# Scenario 2: Model's Prediction of Churn and Impact on Revenue\n",
    "# Predict churn using the GBDT model\n",
    "X = df.drop(columns=['Churn Value', 'Customer ID'])\n",
    "y_pred = gbdt_model.predict(df_encoded)\n",
    "df['Predicted Churn'] = y_pred\n",
    "\n",
    "# Calculate churn impact (revenue loss due to churned subscribers)\n",
    "churned_customers = df[df['Predicted Churn'] == 1]\n",
    "revenue_loss = churned_customers['Monthly Charges'].sum()\n",
    "\n",
    "# Create a pie chart of predicted churn vs non-churn\n",
    "churn_dist = df['Predicted Churn'].value_counts(normalize=True)\n",
    "fig2 = go.Figure(data=[go.Pie(labels=['Churned', 'Non-Churned'], values=churn_dist)])\n",
    "\n",
    "# Scenario 3: Predicting Churn Based on Features (e.g., Tenure)\n",
    "# Group churn by tenure and plot churn prediction\n",
    "churn_by_tenure = df.groupby('Tenure Months')['Predicted Churn'].mean().reset_index()\n",
    "fig3 = px.line(churn_by_tenure, x='Tenure Months', y='Predicted Churn', title='Predicted Churn by Tenure Months')\n",
    "\n",
    "# Scenario 4: Subscriber Segmentation for Targeted Retention Campaigns\n",
    "# Segment subscribers based on churn risk (high vs low risk)\n",
    "df['Churn Risk'] = df['Predicted Churn'].apply(lambda x: 'High Risk' if x == 1 else 'Low Risk')\n",
    "\n",
    "# Create bar plot of subscriber segmentation\n",
    "fig4 = px.bar(df, x='Churn Risk', title=\"Subscriber Segmentation Based on Churn Risk\")\n",
    "\n",
    "# Scenario 5: Churn Reduction Simulation - Impact of Interventions\n",
    "# --------------------------------------------------------------\n",
    "# This section simulates the effect of churn reduction (e.g., reducing churn by 10%) on the company’s revenue.\n",
    "# Stakeholders can visualize how much revenue can be recovered with churn reduction strategies.\n",
    "\n",
    "# Simulate 10% reduction in churn\n",
    "reduced_churn_revenue_loss = revenue_loss * 0.9\n",
    "\n",
    "# Create a bar plot comparing current revenue loss vs projected loss after churn reduction\n",
    "fig5 = go.Figure([\n",
    "    go.Bar(x=['Current', 'With Churn Reduction'], y=[revenue_loss, reduced_churn_revenue_loss], name='Revenue Loss')\n",
    "])\n",
    "\n",
    "# Initialize Dash app\n",
    "app = dash.Dash(__name__)\n",
    "\n",
    "# Define the layout of the app\n",
    "app.layout = html.Div(children=[\n",
    "    html.H1(\"Subscriber Churn Insights & Impact Analysis\"),\n",
    "    \n",
    "    # Churn Overview & Current Situation\n",
    "    html.H2(\"Churn Overview by Gender\"),\n",
    "    html.P(\"This section shows the current churn distribution by gender.\"),\n",
    "    dcc.Graph(id='churn_rate_gender', figure=fig1),\n",
    "    \n",
    "    # Model's Prediction of Churn and Revenue Impact\n",
    "    html.H2(\"Churn Prediction and Revenue Impact\"),\n",
    "    html.P(f\"Estimated revenue loss from churned customers: ${revenue_loss:,.2f}\"),\n",
    "    dcc.Graph(id='churn_prediction', figure=fig2),\n",
    "    \n",
    "    # Predicting Churn Based on Tenure\n",
    "    html.H2(\"Predicted Churn by Tenure Months\"),\n",
    "    html.P(\"This chart shows how churn predictions change with customer tenure.\"),\n",
    "    dcc.Graph(id='churn_by_tenure', figure=fig3),\n",
    "    \n",
    "    # Subscriber Segmentation Based on Churn Risk\n",
    "    html.H2(\"Customer Segmentation Based on Churn Risk\"),\n",
    "    html.P(\"This segmentation helps target high-risk customers for retention efforts.\"),\n",
    "    dcc.Graph(id='customer_segmentation', figure=fig4),\n",
    "    \n",
    "    # Churn Reduction Impact on Revenue\n",
    "    html.H2(\"Impact of Churn Reduction on Revenue\"),\n",
    "    html.P(f\"Projected revenue loss with a 10% churn reduction: ${reduced_churn_revenue_loss:,.2f}\"),\n",
    "    dcc.Graph(id='churn_reduction_impact', figure=fig5),\n",
    "])\n",
    "\n",
    "if __name__ == '__main__':\n",
    "    app.run(mode='inline', port=8058, debug=True)"
   ]
  },
  {
   "cell_type": "markdown",
   "id": "e3e1cfb3-bca2-4847-b67b-93c9c4adc3a9",
   "metadata": {},
   "source": [
    "### Report 3"
   ]
  },
  {
   "cell_type": "code",
   "execution_count": 73,
   "id": "1188f484-6022-4936-bef0-709207d4541b",
   "metadata": {},
   "outputs": [
    {
     "data": {
      "text/html": [
       "\n",
       "        <iframe\n",
       "            width=\"100%\"\n",
       "            height=\"650\"\n",
       "            src=\"http://127.0.0.1:8059/\"\n",
       "            frameborder=\"0\"\n",
       "            allowfullscreen\n",
       "            \n",
       "        ></iframe>\n",
       "        "
      ],
      "text/plain": [
       "<IPython.lib.display.IFrame at 0x1db44cbdf10>"
      ]
     },
     "metadata": {},
     "output_type": "display_data"
    }
   ],
   "source": [
    "#Revenue Loss from Churn (Bar Chart)\n",
    "# Predicted churn column from your GBDT model\n",
    "df['Predicted Churn'] = df['Predicted Churn'].astype(int)\n",
    "\n",
    "# Aggregate revenue by churn status\n",
    "revenue_df = df.groupby(\"Predicted Churn\")[\"Total Revenue\"].sum().reset_index()\n",
    "revenue_df[\"Churn Status\"] = revenue_df[\"Predicted Churn\"].map({0: \"Retained\", 1: \"Churned\"})\n",
    "\n",
    "# Create figure\n",
    "fig = px.bar(revenue_df,\n",
    "             x=\"Churn Status\",\n",
    "             y=\"Total Revenue\",\n",
    "             title=\"💸 Revenue Distribution: Retained vs Churned Subscribers\",\n",
    "             text=\"Total Revenue\",\n",
    "             color=\"Churn Status\",\n",
    "             color_discrete_map={\"Retained\": \"green\", \"Churned\": \"red\"})\n",
    "\n",
    "# Dash App\n",
    "app = dash.Dash(__name__)\n",
    "app.layout = html.Div([\n",
    "    html.H2(\"Impact of Churn on Revenue\", style={\"textAlign\": \"center\"}),\n",
    "    dcc.Graph(figure=fig)\n",
    "])\n",
    "\n",
    "if __name__ == \"__main__\":\n",
    "    app.run(debug=True, port=8059)\n"
   ]
  },
  {
   "cell_type": "markdown",
   "id": "de7eb8c2-b529-4b01-abf1-4b786e77245d",
   "metadata": {},
   "source": [
    "### Report 4"
   ]
  },
  {
   "cell_type": "code",
   "execution_count": 42,
   "id": "ed76344f-3fc6-4d2a-9e90-0b6396c2051a",
   "metadata": {},
   "outputs": [
    {
     "data": {
      "text/html": [
       "\n",
       "        <iframe\n",
       "            width=\"100%\"\n",
       "            height=\"650\"\n",
       "            src=\"http://127.0.0.1:8056/\"\n",
       "            frameborder=\"0\"\n",
       "            allowfullscreen\n",
       "            \n",
       "        ></iframe>\n",
       "        "
      ],
      "text/plain": [
       "<IPython.lib.display.IFrame at 0x1db44ca0990>"
      ]
     },
     "metadata": {},
     "output_type": "display_data"
    }
   ],
   "source": [
    "# Model Performances\n",
    "# Create a simple DataFrame of model results\n",
    "data = {\n",
    "    'Model': ['Logistic Regression', 'Decision Tree', 'Random Forest', 'GBDT', 'Neural Network'],\n",
    "    'F1 Score (Train)': [0.9086, 0.9361, 0.9300, 0.9865, 0.9758],\n",
    "    'F1 Score (Test)': [0.9092, 0.9328, 0.9291, 0.9355, 0.9331],\n",
    "    'Recall (Test)': [0.9023, 0.9170, 0.9088, 0.9240, 0.9242]\n",
    "}\n",
    "\n",
    "df = pd.DataFrame(data)\n",
    "df_long = df.melt(id_vars='Model', var_name='Metric', value_name='Score')\n",
    "\n",
    "# DASH APP\n",
    "app = dash.Dash(__name__)\n",
    "app.title = \"Model Comparison Dashboard\"\n",
    "\n",
    "app.layout = html.Div([\n",
    "    html.H2(\"📈 Model Performance Comparison\", style={'textAlign': 'center'}),\n",
    "\n",
    "    dcc.Graph(\n",
    "        id='model-comparison-graph',\n",
    "        figure=px.bar(\n",
    "            df_long,\n",
    "            x='Model',\n",
    "            y='Score',\n",
    "            color='Metric',\n",
    "            barmode='group',\n",
    "            text='Score',\n",
    "            title='Comparison of Machine Learning Models on Churn Prediction',\n",
    "            color_discrete_map={\n",
    "                'F1 Score (Train)': '#1f77b4',\n",
    "                'F1 Score (Test)': '#ff7f0e',\n",
    "                'Recall (Test)': '#2ca02c'\n",
    "            }\n",
    "        ).update_layout(yaxis=dict(title='Score'), xaxis=dict(title='Model'))\n",
    "    )\n",
    "])\n",
    "\n",
    "# RUN APP\n",
    "if __name__ == '__main__':\n",
    "    app.run(debug=True, port=8056)\n"
   ]
  },
  {
   "cell_type": "markdown",
   "id": "12831a4c-e084-4b41-9b3e-b20e7fcd31ab",
   "metadata": {},
   "source": [
    "### Report 5"
   ]
  },
  {
   "cell_type": "code",
   "execution_count": 46,
   "id": "0e629c56-3998-4262-958c-162a226b4194",
   "metadata": {},
   "outputs": [
    {
     "data": {
      "image/png": "[encoded data removed]",
      "text/plain": [
       "<Figure size 1000x600 with 1 Axes>"
      ]
     },
     "metadata": {},
     "output_type": "display_data"
    }
   ],
   "source": [
    "# How GBDT Improves With Each Tree\n",
    "# Simulated model improvement over 10 trees\n",
    "trees = np.arange(1, 11)\n",
    "accuracy = [0.70, 0.75, 0.78, 0.81, 0.84, 0.86, 0.88, 0.90, 0.92, 0.935]  # Simulated accuracy values\n",
    "\n",
    "# Create the plot\n",
    "plt.figure(figsize=(10, 6))\n",
    "plt.plot(trees, accuracy, marker='o', linestyle='-', color='green')\n",
    "plt.title(\"How GBDT Improves With Each Tree\")\n",
    "plt.xlabel(\"Number of Trees (Iterations)\")\n",
    "plt.ylabel(\"Accuracy\")\n",
    "plt.grid(True)\n",
    "plt.xticks(trees)\n",
    "plt.ylim(0.65, 1.0)\n",
    "\n",
    "# Annotate the final point\n",
    "plt.text(trees[-1], accuracy[-1], f\"{accuracy[-1]*100:.1f}%\", fontsize=12, ha='left')\n",
    "\n",
    "plt.tight_layout()\n",
    "plt.show()"
   ]
  },
  {
   "cell_type": "markdown",
   "id": "140a2758-ba5a-4484-913b-5a45bce737b8",
   "metadata": {},
   "source": [
    "### Report 6"
   ]
  },
  {
   "cell_type": "code",
   "execution_count": 91,
   "id": "6c88da93-0627-4dab-b85e-2807b0905b5a",
   "metadata": {},
   "outputs": [
    {
     "data": {
      "application/vnd.plotly.v1+json": {
       "config": {
        "plotlyServerURL": "https://plot.ly"
       },
       "data": [
        {
         "alignmentgroup": "True",
         "hovertemplate": "Churn Value=%{x}<br>Total Monthly Revenue ($)=%{text}<extra></extra>",
         "legendgroup": "Churned",
         "marker": {
          "color": "#636efa",
          "pattern": {
           "shape": ""
          }
         },
         "name": "Churned",
         "offsetgroup": "Churned",
         "orientation": "v",
         "showlegend": true,
         "text": [
          143635.5
         ],
         "textposition": "outside",
         "texttemplate": "$%{text:,.0f}",
         "type": "bar",
         "x": [
          "Churned"
         ],
         "xaxis": "x",
         "y": [
          143635.5
         ],
         "yaxis": "y"
        },
        {
         "alignmentgroup": "True",
         "hovertemplate": "Churn Value=%{x}<br>Total Monthly Revenue ($)=%{text}<extra></extra>",
         "legendgroup": "Retained",
         "marker": {
          "color": "#EF553B",
          "pattern": {
           "shape": ""
          }
         },
         "name": "Retained",
         "offsetgroup": "Retained",
         "orientation": "v",
         "showlegend": true,
         "text": [
          312481.1
         ],
         "textposition": "outside",
         "texttemplate": "$%{text:,.0f}",
         "type": "bar",
         "x": [
          "Retained"
         ],
         "xaxis": "x",
         "y": [
          312481.1
         ],
         "yaxis": "y"
        }
       ],
       "layout": {
        "autosize": true,
        "barmode": "relative",
        "legend": {
         "title": {
          "text": "Churn Value"
         },
         "tracegroupgap": 0
        },
        "template": {
         "data": {
          "bar": [
           {
            "error_x": {
             "color": "#2a3f5f"
            },
            "error_y": {
             "color": "#2a3f5f"
            },
            "marker": {
             "line": {
              "color": "#E5ECF6",
              "width": 0.5
             },
             "pattern": {
              "fillmode": "overlay",
              "size": 10,
              "solidity": 0.2
             }
            },
            "type": "bar"
           }
          ],
          "barpolar": [
           {
            "marker": {
             "line": {
              "color": "#E5ECF6",
              "width": 0.5
             },
             "pattern": {
              "fillmode": "overlay",
              "size": 10,
              "solidity": 0.2
             }
            },
            "type": "barpolar"
           }
          ],
          "carpet": [
           {
            "aaxis": {
             "endlinecolor": "#2a3f5f",
             "gridcolor": "white",
             "linecolor": "white",
             "minorgridcolor": "white",
             "startlinecolor": "#2a3f5f"
            },
            "baxis": {
             "endlinecolor": "#2a3f5f",
             "gridcolor": "white",
             "linecolor": "white",
             "minorgridcolor": "white",
             "startlinecolor": "#2a3f5f"
            },
            "type": "carpet"
           }
          ],
          "choropleth": [
           {
            "colorbar": {
             "outlinewidth": 0,
             "ticks": ""
            },
            "type": "choropleth"
           }
          ],
          "contour": [
           {
            "colorbar": {
             "outlinewidth": 0,
             "ticks": ""
            },
            "colorscale": [
             [
              0,
              "#0d0887"
             ],
             [
              0.1111111111111111,
              "#46039f"
             ],
             [
              0.2222222222222222,
              "#7201a8"
             ],
             [
              0.3333333333333333,
              "#9c179e"
             ],
             [
              0.4444444444444444,
              "#bd3786"
             ],
             [
              0.5555555555555556,
              "#d8576b"
             ],
             [
              0.6666666666666666,
              "#ed7953"
             ],
             [
              0.7777777777777778,
              "#fb9f3a"
             ],
             [
              0.8888888888888888,
              "#fdca26"
             ],
             [
              1,
              "#f0f921"
             ]
            ],
            "type": "contour"
           }
          ],
          "contourcarpet": [
           {
            "colorbar": {
             "outlinewidth": 0,
             "ticks": ""
            },
            "type": "contourcarpet"
           }
          ],
          "heatmap": [
           {
            "colorbar": {
             "outlinewidth": 0,
             "ticks": ""
            },
            "colorscale": [
             [
              0,
              "#0d0887"
             ],
             [
              0.1111111111111111,
              "#46039f"
             ],
             [
              0.2222222222222222,
              "#7201a8"
             ],
             [
              0.3333333333333333,
              "#9c179e"
             ],
             [
              0.4444444444444444,
              "#bd3786"
             ],
             [
              0.5555555555555556,
              "#d8576b"
             ],
             [
              0.6666666666666666,
              "#ed7953"
             ],
             [
              0.7777777777777778,
              "#fb9f3a"
             ],
             [
              0.8888888888888888,
              "#fdca26"
             ],
             [
              1,
              "#f0f921"
             ]
            ],
            "type": "heatmap"
           }
          ],
          "heatmapgl": [
           {
            "colorbar": {
             "outlinewidth": 0,
             "ticks": ""
            },
            "colorscale": [
             [
              0,
              "#0d0887"
             ],
             [
              0.1111111111111111,
              "#46039f"
             ],
             [
              0.2222222222222222,
              "#7201a8"
             ],
             [
              0.3333333333333333,
              "#9c179e"
             ],
             [
              0.4444444444444444,
              "#bd3786"
             ],
             [
              0.5555555555555556,
              "#d8576b"
             ],
             [
              0.6666666666666666,
              "#ed7953"
             ],
             [
              0.7777777777777778,
              "#fb9f3a"
             ],
             [
              0.8888888888888888,
              "#fdca26"
             ],
             [
              1,
              "#f0f921"
             ]
            ],
            "type": "heatmapgl"
           }
          ],
          "histogram": [
           {
            "marker": {
             "pattern": {
              "fillmode": "overlay",
              "size": 10,
              "solidity": 0.2
             }
            },
            "type": "histogram"
           }
          ],
          "histogram2d": [
           {
            "colorbar": {
             "outlinewidth": 0,
             "ticks": ""
            },
            "colorscale": [
             [
              0,
              "#0d0887"
             ],
             [
              0.1111111111111111,
              "#46039f"
             ],
             [
              0.2222222222222222,
              "#7201a8"
             ],
             [
              0.3333333333333333,
              "#9c179e"
             ],
             [
              0.4444444444444444,
              "#bd3786"
             ],
             [
              0.5555555555555556,
              "#d8576b"
             ],
             [
              0.6666666666666666,
              "#ed7953"
             ],
             [
              0.7777777777777778,
              "#fb9f3a"
             ],
             [
              0.8888888888888888,
              "#fdca26"
             ],
             [
              1,
              "#f0f921"
             ]
            ],
            "type": "histogram2d"
           }
          ],
          "histogram2dcontour": [
           {
            "colorbar": {
             "outlinewidth": 0,
             "ticks": ""
            },
            "colorscale": [
             [
              0,
              "#0d0887"
             ],
             [
              0.1111111111111111,
              "#46039f"
             ],
             [
              0.2222222222222222,
              "#7201a8"
             ],
             [
              0.3333333333333333,
              "#9c179e"
             ],
             [
              0.4444444444444444,
              "#bd3786"
             ],
             [
              0.5555555555555556,
              "#d8576b"
             ],
             [
              0.6666666666666666,
              "#ed7953"
             ],
             [
              0.7777777777777778,
              "#fb9f3a"
             ],
             [
              0.8888888888888888,
              "#fdca26"
             ],
             [
              1,
              "#f0f921"
             ]
            ],
            "type": "histogram2dcontour"
           }
          ],
          "mesh3d": [
           {
            "colorbar": {
             "outlinewidth": 0,
             "ticks": ""
            },
            "type": "mesh3d"
           }
          ],
          "parcoords": [
           {
            "line": {
             "colorbar": {
              "outlinewidth": 0,
              "ticks": ""
             }
            },
            "type": "parcoords"
           }
          ],
          "pie": [
           {
            "automargin": true,
            "type": "pie"
           }
          ],
          "scatter": [
           {
            "fillpattern": {
             "fillmode": "overlay",
             "size": 10,
             "solidity": 0.2
            },
            "type": "scatter"
           }
          ],
          "scatter3d": [
           {
            "line": {
             "colorbar": {
              "outlinewidth": 0,
              "ticks": ""
             }
            },
            "marker": {
             "colorbar": {
              "outlinewidth": 0,
              "ticks": ""
             }
            },
            "type": "scatter3d"
           }
          ],
          "scattercarpet": [
           {
            "marker": {
             "colorbar": {
              "outlinewidth": 0,
              "ticks": ""
             }
            },
            "type": "scattercarpet"
           }
          ],
          "scattergeo": [
           {
            "marker": {
             "colorbar": {
              "outlinewidth": 0,
              "ticks": ""
             }
            },
            "type": "scattergeo"
           }
          ],
          "scattergl": [
           {
            "marker": {
             "colorbar": {
              "outlinewidth": 0,
              "ticks": ""
             }
            },
            "type": "scattergl"
           }
          ],
          "scattermapbox": [
           {
            "marker": {
             "colorbar": {
              "outlinewidth": 0,
              "ticks": ""
             }
            },
            "type": "scattermapbox"
           }
          ],
          "scatterpolar": [
           {
            "marker": {
             "colorbar": {
              "outlinewidth": 0,
              "ticks": ""
             }
            },
            "type": "scatterpolar"
           }
          ],
          "scatterpolargl": [
           {
            "marker": {
             "colorbar": {
              "outlinewidth": 0,
              "ticks": ""
             }
            },
            "type": "scatterpolargl"
           }
          ],
          "scatterternary": [
           {
            "marker": {
             "colorbar": {
              "outlinewidth": 0,
              "ticks": ""
             }
            },
            "type": "scatterternary"
           }
          ],
          "surface": [
           {
            "colorbar": {
             "outlinewidth": 0,
             "ticks": ""
            },
            "colorscale": [
             [
              0,
              "#0d0887"
             ],
             [
              0.1111111111111111,
              "#46039f"
             ],
             [
              0.2222222222222222,
              "#7201a8"
             ],
             [
              0.3333333333333333,
              "#9c179e"
             ],
             [
              0.4444444444444444,
              "#bd3786"
             ],
             [
              0.5555555555555556,
              "#d8576b"
             ],
             [
              0.6666666666666666,
              "#ed7953"
             ],
             [
              0.7777777777777778,
              "#fb9f3a"
             ],
             [
              0.8888888888888888,
              "#fdca26"
             ],
             [
              1,
              "#f0f921"
             ]
            ],
            "type": "surface"
           }
          ],
          "table": [
           {
            "cells": {
             "fill": {
              "color": "#EBF0F8"
             },
             "line": {
              "color": "white"
             }
            },
            "header": {
             "fill": {
              "color": "#C8D4E3"
             },
             "line": {
              "color": "white"
             }
            },
            "type": "table"
           }
          ]
         },
         "layout": {
          "annotationdefaults": {
           "arrowcolor": "#2a3f5f",
           "arrowhead": 0,
           "arrowwidth": 1
          },
          "autotypenumbers": "strict",
          "coloraxis": {
           "colorbar": {
            "outlinewidth": 0,
            "ticks": ""
           }
          },
          "colorscale": {
           "diverging": [
            [
             0,
             "#8e0152"
            ],
            [
             0.1,
             "#c51b7d"
            ],
            [
             0.2,
             "#de77ae"
            ],
            [
             0.3,
             "#f1b6da"
            ],
            [
             0.4,
             "#fde0ef"
            ],
            [
             0.5,
             "#f7f7f7"
            ],
            [
             0.6,
             "#e6f5d0"
            ],
            [
             0.7,
             "#b8e186"
            ],
            [
             0.8,
             "#7fbc41"
            ],
            [
             0.9,
             "#4d9221"
            ],
            [
             1,
             "#276419"
            ]
           ],
           "sequential": [
            [
             0,
             "#0d0887"
            ],
            [
             0.1111111111111111,
             "#46039f"
            ],
            [
             0.2222222222222222,
             "#7201a8"
            ],
            [
             0.3333333333333333,
             "#9c179e"
            ],
            [
             0.4444444444444444,
             "#bd3786"
            ],
            [
             0.5555555555555556,
             "#d8576b"
            ],
            [
             0.6666666666666666,
             "#ed7953"
            ],
            [
             0.7777777777777778,
             "#fb9f3a"
            ],
            [
             0.8888888888888888,
             "#fdca26"
            ],
            [
             1,
             "#f0f921"
            ]
           ],
           "sequentialminus": [
            [
             0,
             "#0d0887"
            ],
            [
             0.1111111111111111,
             "#46039f"
            ],
            [
             0.2222222222222222,
             "#7201a8"
            ],
            [
             0.3333333333333333,
             "#9c179e"
            ],
            [
             0.4444444444444444,
             "#bd3786"
            ],
            [
             0.5555555555555556,
             "#d8576b"
            ],
            [
             0.6666666666666666,
             "#ed7953"
            ],
            [
             0.7777777777777778,
             "#fb9f3a"
            ],
            [
             0.8888888888888888,
             "#fdca26"
            ],
            [
             1,
             "#f0f921"
            ]
           ]
          },
          "colorway": [
           "#636efa",
           "#EF553B",
           "#00cc96",
           "#ab63fa",
           "#FFA15A",
           "#19d3f3",
           "#FF6692",
           "#B6E880",
           "#FF97FF",
           "#FECB52"
          ],
          "font": {
           "color": "#2a3f5f"
          },
          "geo": {
           "bgcolor": "white",
           "lakecolor": "white",
           "landcolor": "#E5ECF6",
           "showlakes": true,
           "showland": true,
           "subunitcolor": "white"
          },
          "hoverlabel": {
           "align": "left"
          },
          "hovermode": "closest",
          "mapbox": {
           "style": "light"
          },
          "paper_bgcolor": "white",
          "plot_bgcolor": "#E5ECF6",
          "polar": {
           "angularaxis": {
            "gridcolor": "white",
            "linecolor": "white",
            "ticks": ""
           },
           "bgcolor": "#E5ECF6",
           "radialaxis": {
            "gridcolor": "white",
            "linecolor": "white",
            "ticks": ""
           }
          },
          "scene": {
           "xaxis": {
            "backgroundcolor": "#E5ECF6",
            "gridcolor": "white",
            "gridwidth": 2,
            "linecolor": "white",
            "showbackground": true,
            "ticks": "",
            "zerolinecolor": "white"
           },
           "yaxis": {
            "backgroundcolor": "#E5ECF6",
            "gridcolor": "white",
            "gridwidth": 2,
            "linecolor": "white",
            "showbackground": true,
            "ticks": "",
            "zerolinecolor": "white"
           },
           "zaxis": {
            "backgroundcolor": "#E5ECF6",
            "gridcolor": "white",
            "gridwidth": 2,
            "linecolor": "white",
            "showbackground": true,
            "ticks": "",
            "zerolinecolor": "white"
           }
          },
          "shapedefaults": {
           "line": {
            "color": "#2a3f5f"
           }
          },
          "ternary": {
           "aaxis": {
            "gridcolor": "white",
            "linecolor": "white",
            "ticks": ""
           },
           "baxis": {
            "gridcolor": "white",
            "linecolor": "white",
            "ticks": ""
           },
           "bgcolor": "#E5ECF6",
           "caxis": {
            "gridcolor": "white",
            "linecolor": "white",
            "ticks": ""
           }
          },
          "title": {
           "x": 0.05
          },
          "xaxis": {
           "automargin": true,
           "gridcolor": "white",
           "linecolor": "white",
           "ticks": "",
           "title": {
            "standoff": 15
           },
           "zerolinecolor": "white",
           "zerolinewidth": 2
          },
          "yaxis": {
           "automargin": true,
           "gridcolor": "white",
           "linecolor": "white",
           "ticks": "",
           "title": {
            "standoff": 15
           },
           "zerolinecolor": "white",
           "zerolinewidth": 2
          }
         }
        },
        "title": {
         "text": "Monthly Revenue Comparison: Churned vs Retained"
        },
        "uniformtext": {
         "minsize": 6,
         "mode": "hide"
        },
        "xaxis": {
         "anchor": "y",
         "autorange": true,
         "categoryarray": [
          "Churned",
          "Retained"
         ],
         "categoryorder": "array",
         "domain": [
          0,
          1
         ],
         "range": [
          -0.5,
          1.5
         ],
         "title": {
          "text": "Churn Value"
         },
         "type": "category"
        },
        "yaxis": {
         "anchor": "x",
         "autorange": false,
         "domain": [
          0,
          1
         ],
         "range": [
          0,
          367745.00163452106
         ],
         "title": {
          "text": "Total Monthly Revenue ($)"
         },
         "type": "linear"
        }
       }
      },
      "image/png": "[encoded data removed]",
      "text/html": [
       "<div>                            <div id=\"8fd7c492-0da8-4460-9132-6dbde15e4677\" class=\"plotly-graph-div\" style=\"height:525px; width:100%;\"></div>            <script type=\"text/javascript\">                require([\"plotly\"], function(Plotly) {                    window.PLOTLYENV=window.PLOTLYENV || {};                                    if (document.getElementById(\"8fd7c492-0da8-4460-9132-6dbde15e4677\")) {                    Plotly.newPlot(                        \"8fd7c492-0da8-4460-9132-6dbde15e4677\",                        [{\"alignmentgroup\":\"True\",\"hovertemplate\":\"Churn Value=%{x}<br>Total Monthly Revenue ($)=%{text}<extra></extra>\",\"legendgroup\":\"Churned\",\"marker\":{\"color\":\"#636efa\",\"pattern\":{\"shape\":\"\"}},\"name\":\"Churned\",\"offsetgroup\":\"Churned\",\"orientation\":\"v\",\"showlegend\":true,\"text\":[143635.5],\"textposition\":\"outside\",\"x\":[\"Churned\"],\"xaxis\":\"x\",\"y\":[143635.5],\"yaxis\":\"y\",\"type\":\"bar\",\"texttemplate\":\"$%{text:,.0f}\"},{\"alignmentgroup\":\"True\",\"hovertemplate\":\"Churn Value=%{x}<br>Total Monthly Revenue ($)=%{text}<extra></extra>\",\"legendgroup\":\"Retained\",\"marker\":{\"color\":\"#EF553B\",\"pattern\":{\"shape\":\"\"}},\"name\":\"Retained\",\"offsetgroup\":\"Retained\",\"orientation\":\"v\",\"showlegend\":true,\"text\":[312481.1],\"textposition\":\"outside\",\"x\":[\"Retained\"],\"xaxis\":\"x\",\"y\":[312481.1],\"yaxis\":\"y\",\"type\":\"bar\",\"texttemplate\":\"$%{text:,.0f}\"}],                        {\"template\":{\"data\":{\"histogram2dcontour\":[{\"type\":\"histogram2dcontour\",\"colorbar\":{\"outlinewidth\":0,\"ticks\":\"\"},\"colorscale\":[[0.0,\"#0d0887\"],[0.1111111111111111,\"#46039f\"],[0.2222222222222222,\"#7201a8\"],[0.3333333333333333,\"#9c179e\"],[0.4444444444444444,\"#bd3786\"],[0.5555555555555556,\"#d8576b\"],[0.6666666666666666,\"#ed7953\"],[0.7777777777777778,\"#fb9f3a\"],[0.8888888888888888,\"#fdca26\"],[1.0,\"#f0f921\"]]}],\"choropleth\":[{\"type\":\"choropleth\",\"colorbar\":{\"outlinewidth\":0,\"ticks\":\"\"}}],\"histogram2d\":[{\"type\":\"histogram2d\",\"colorbar\":{\"outlinewidth\":0,\"ticks\":\"\"},\"colorscale\":[[0.0,\"#0d0887\"],[0.1111111111111111,\"#46039f\"],[0.2222222222222222,\"#7201a8\"],[0.3333333333333333,\"#9c179e\"],[0.4444444444444444,\"#bd3786\"],[0.5555555555555556,\"#d8576b\"],[0.6666666666666666,\"#ed7953\"],[0.7777777777777778,\"#fb9f3a\"],[0.8888888888888888,\"#fdca26\"],[1.0,\"#f0f921\"]]}],\"heatmap\":[{\"type\":\"heatmap\",\"colorbar\":{\"outlinewidth\":0,\"ticks\":\"\"},\"colorscale\":[[0.0,\"#0d0887\"],[0.1111111111111111,\"#46039f\"],[0.2222222222222222,\"#7201a8\"],[0.3333333333333333,\"#9c179e\"],[0.4444444444444444,\"#bd3786\"],[0.5555555555555556,\"#d8576b\"],[0.6666666666666666,\"#ed7953\"],[0.7777777777777778,\"#fb9f3a\"],[0.8888888888888888,\"#fdca26\"],[1.0,\"#f0f921\"]]}],\"heatmapgl\":[{\"type\":\"heatmapgl\",\"colorbar\":{\"outlinewidth\":0,\"ticks\":\"\"},\"colorscale\":[[0.0,\"#0d0887\"],[0.1111111111111111,\"#46039f\"],[0.2222222222222222,\"#7201a8\"],[0.3333333333333333,\"#9c179e\"],[0.4444444444444444,\"#bd3786\"],[0.5555555555555556,\"#d8576b\"],[0.6666666666666666,\"#ed7953\"],[0.7777777777777778,\"#fb9f3a\"],[0.8888888888888888,\"#fdca26\"],[1.0,\"#f0f921\"]]}],\"contourcarpet\":[{\"type\":\"contourcarpet\",\"colorbar\":{\"outlinewidth\":0,\"ticks\":\"\"}}],\"contour\":[{\"type\":\"contour\",\"colorbar\":{\"outlinewidth\":0,\"ticks\":\"\"},\"colorscale\":[[0.0,\"#0d0887\"],[0.1111111111111111,\"#46039f\"],[0.2222222222222222,\"#7201a8\"],[0.3333333333333333,\"#9c179e\"],[0.4444444444444444,\"#bd3786\"],[0.5555555555555556,\"#d8576b\"],[0.6666666666666666,\"#ed7953\"],[0.7777777777777778,\"#fb9f3a\"],[0.8888888888888888,\"#fdca26\"],[1.0,\"#f0f921\"]]}],\"surface\":[{\"type\":\"surface\",\"colorbar\":{\"outlinewidth\":0,\"ticks\":\"\"},\"colorscale\":[[0.0,\"#0d0887\"],[0.1111111111111111,\"#46039f\"],[0.2222222222222222,\"#7201a8\"],[0.3333333333333333,\"#9c179e\"],[0.4444444444444444,\"#bd3786\"],[0.5555555555555556,\"#d8576b\"],[0.6666666666666666,\"#ed7953\"],[0.7777777777777778,\"#fb9f3a\"],[0.8888888888888888,\"#fdca26\"],[1.0,\"#f0f921\"]]}],\"mesh3d\":[{\"type\":\"mesh3d\",\"colorbar\":{\"outlinewidth\":0,\"ticks\":\"\"}}],\"scatter\":[{\"fillpattern\":{\"fillmode\":\"overlay\",\"size\":10,\"solidity\":0.2},\"type\":\"scatter\"}],\"parcoords\":[{\"type\":\"parcoords\",\"line\":{\"colorbar\":{\"outlinewidth\":0,\"ticks\":\"\"}}}],\"scatterpolargl\":[{\"type\":\"scatterpolargl\",\"marker\":{\"colorbar\":{\"outlinewidth\":0,\"ticks\":\"\"}}}],\"bar\":[{\"error_x\":{\"color\":\"#2a3f5f\"},\"error_y\":{\"color\":\"#2a3f5f\"},\"marker\":{\"line\":{\"color\":\"#E5ECF6\",\"width\":0.5},\"pattern\":{\"fillmode\":\"overlay\",\"size\":10,\"solidity\":0.2}},\"type\":\"bar\"}],\"scattergeo\":[{\"type\":\"scattergeo\",\"marker\":{\"colorbar\":{\"outlinewidth\":0,\"ticks\":\"\"}}}],\"scatterpolar\":[{\"type\":\"scatterpolar\",\"marker\":{\"colorbar\":{\"outlinewidth\":0,\"ticks\":\"\"}}}],\"histogram\":[{\"marker\":{\"pattern\":{\"fillmode\":\"overlay\",\"size\":10,\"solidity\":0.2}},\"type\":\"histogram\"}],\"scattergl\":[{\"type\":\"scattergl\",\"marker\":{\"colorbar\":{\"outlinewidth\":0,\"ticks\":\"\"}}}],\"scatter3d\":[{\"type\":\"scatter3d\",\"line\":{\"colorbar\":{\"outlinewidth\":0,\"ticks\":\"\"}},\"marker\":{\"colorbar\":{\"outlinewidth\":0,\"ticks\":\"\"}}}],\"scattermapbox\":[{\"type\":\"scattermapbox\",\"marker\":{\"colorbar\":{\"outlinewidth\":0,\"ticks\":\"\"}}}],\"scatterternary\":[{\"type\":\"scatterternary\",\"marker\":{\"colorbar\":{\"outlinewidth\":0,\"ticks\":\"\"}}}],\"scattercarpet\":[{\"type\":\"scattercarpet\",\"marker\":{\"colorbar\":{\"outlinewidth\":0,\"ticks\":\"\"}}}],\"carpet\":[{\"aaxis\":{\"endlinecolor\":\"#2a3f5f\",\"gridcolor\":\"white\",\"linecolor\":\"white\",\"minorgridcolor\":\"white\",\"startlinecolor\":\"#2a3f5f\"},\"baxis\":{\"endlinecolor\":\"#2a3f5f\",\"gridcolor\":\"white\",\"linecolor\":\"white\",\"minorgridcolor\":\"white\",\"startlinecolor\":\"#2a3f5f\"},\"type\":\"carpet\"}],\"table\":[{\"cells\":{\"fill\":{\"color\":\"#EBF0F8\"},\"line\":{\"color\":\"white\"}},\"header\":{\"fill\":{\"color\":\"#C8D4E3\"},\"line\":{\"color\":\"white\"}},\"type\":\"table\"}],\"barpolar\":[{\"marker\":{\"line\":{\"color\":\"#E5ECF6\",\"width\":0.5},\"pattern\":{\"fillmode\":\"overlay\",\"size\":10,\"solidity\":0.2}},\"type\":\"barpolar\"}],\"pie\":[{\"automargin\":true,\"type\":\"pie\"}]},\"layout\":{\"autotypenumbers\":\"strict\",\"colorway\":[\"#636efa\",\"#EF553B\",\"#00cc96\",\"#ab63fa\",\"#FFA15A\",\"#19d3f3\",\"#FF6692\",\"#B6E880\",\"#FF97FF\",\"#FECB52\"],\"font\":{\"color\":\"#2a3f5f\"},\"hovermode\":\"closest\",\"hoverlabel\":{\"align\":\"left\"},\"paper_bgcolor\":\"white\",\"plot_bgcolor\":\"#E5ECF6\",\"polar\":{\"bgcolor\":\"#E5ECF6\",\"angularaxis\":{\"gridcolor\":\"white\",\"linecolor\":\"white\",\"ticks\":\"\"},\"radialaxis\":{\"gridcolor\":\"white\",\"linecolor\":\"white\",\"ticks\":\"\"}},\"ternary\":{\"bgcolor\":\"#E5ECF6\",\"aaxis\":{\"gridcolor\":\"white\",\"linecolor\":\"white\",\"ticks\":\"\"},\"baxis\":{\"gridcolor\":\"white\",\"linecolor\":\"white\",\"ticks\":\"\"},\"caxis\":{\"gridcolor\":\"white\",\"linecolor\":\"white\",\"ticks\":\"\"}},\"coloraxis\":{\"colorbar\":{\"outlinewidth\":0,\"ticks\":\"\"}},\"colorscale\":{\"sequential\":[[0.0,\"#0d0887\"],[0.1111111111111111,\"#46039f\"],[0.2222222222222222,\"#7201a8\"],[0.3333333333333333,\"#9c179e\"],[0.4444444444444444,\"#bd3786\"],[0.5555555555555556,\"#d8576b\"],[0.6666666666666666,\"#ed7953\"],[0.7777777777777778,\"#fb9f3a\"],[0.8888888888888888,\"#fdca26\"],[1.0,\"#f0f921\"]],\"sequentialminus\":[[0.0,\"#0d0887\"],[0.1111111111111111,\"#46039f\"],[0.2222222222222222,\"#7201a8\"],[0.3333333333333333,\"#9c179e\"],[0.4444444444444444,\"#bd3786\"],[0.5555555555555556,\"#d8576b\"],[0.6666666666666666,\"#ed7953\"],[0.7777777777777778,\"#fb9f3a\"],[0.8888888888888888,\"#fdca26\"],[1.0,\"#f0f921\"]],\"diverging\":[[0,\"#8e0152\"],[0.1,\"#c51b7d\"],[0.2,\"#de77ae\"],[0.3,\"#f1b6da\"],[0.4,\"#fde0ef\"],[0.5,\"#f7f7f7\"],[0.6,\"#e6f5d0\"],[0.7,\"#b8e186\"],[0.8,\"#7fbc41\"],[0.9,\"#4d9221\"],[1,\"#276419\"]]},\"xaxis\":{\"gridcolor\":\"white\",\"linecolor\":\"white\",\"ticks\":\"\",\"title\":{\"standoff\":15},\"zerolinecolor\":\"white\",\"automargin\":true,\"zerolinewidth\":2},\"yaxis\":{\"gridcolor\":\"white\",\"linecolor\":\"white\",\"ticks\":\"\",\"title\":{\"standoff\":15},\"zerolinecolor\":\"white\",\"automargin\":true,\"zerolinewidth\":2},\"scene\":{\"xaxis\":{\"backgroundcolor\":\"#E5ECF6\",\"gridcolor\":\"white\",\"linecolor\":\"white\",\"showbackground\":true,\"ticks\":\"\",\"zerolinecolor\":\"white\",\"gridwidth\":2},\"yaxis\":{\"backgroundcolor\":\"#E5ECF6\",\"gridcolor\":\"white\",\"linecolor\":\"white\",\"showbackground\":true,\"ticks\":\"\",\"zerolinecolor\":\"white\",\"gridwidth\":2},\"zaxis\":{\"backgroundcolor\":\"#E5ECF6\",\"gridcolor\":\"white\",\"linecolor\":\"white\",\"showbackground\":true,\"ticks\":\"\",\"zerolinecolor\":\"white\",\"gridwidth\":2}},\"shapedefaults\":{\"line\":{\"color\":\"#2a3f5f\"}},\"annotationdefaults\":{\"arrowcolor\":\"#2a3f5f\",\"arrowhead\":0,\"arrowwidth\":1},\"geo\":{\"bgcolor\":\"white\",\"landcolor\":\"#E5ECF6\",\"subunitcolor\":\"white\",\"showland\":true,\"showlakes\":true,\"lakecolor\":\"white\"},\"title\":{\"x\":0.05},\"mapbox\":{\"style\":\"light\"}}},\"xaxis\":{\"anchor\":\"y\",\"domain\":[0.0,1.0],\"title\":{\"text\":\"Churn Value\"},\"categoryorder\":\"array\",\"categoryarray\":[\"Churned\",\"Retained\"]},\"yaxis\":{\"anchor\":\"x\",\"domain\":[0.0,1.0],\"title\":{\"text\":\"Total Monthly Revenue ($)\"}},\"legend\":{\"title\":{\"text\":\"Churn Value\"},\"tracegroupgap\":0},\"title\":{\"text\":\"Monthly Revenue Comparison: Churned vs Retained\"},\"barmode\":\"relative\",\"uniformtext\":{\"minsize\":6,\"mode\":\"hide\"}},                        {\"responsive\": true}                    ).then(function(){\n",
       "                            \n",
       "var gd = document.getElementById('8fd7c492-0da8-4460-9132-6dbde15e4677');\n",
       "var x = new MutationObserver(function (mutations, observer) {{\n",
       "        var display = window.getComputedStyle(gd).display;\n",
       "        if (!display || display === 'none') {{\n",
       "            console.log([gd, 'removed!']);\n",
       "            Plotly.purge(gd);\n",
       "            observer.disconnect();\n",
       "        }}\n",
       "}});\n",
       "\n",
       "// Listen for the removal of the full notebook cells\n",
       "var notebookContainer = gd.closest('#notebook-container');\n",
       "if (notebookContainer) {{\n",
       "    x.observe(notebookContainer, {childList: true});\n",
       "}}\n",
       "\n",
       "// Listen for the clearing of the current output cell\n",
       "var outputEl = gd.closest('.output');\n",
       "if (outputEl) {{\n",
       "    x.observe(outputEl, {childList: true});\n",
       "}}\n",
       "\n",
       "                        })                };                });            </script>        </div>"
      ]
     },
     "metadata": {},
     "output_type": "display_data"
    }
   ],
   "source": [
    "\n",
    "df['Churn Value'] = df['Predicted Churn'].replace({0: 'Retained', 1: 'Churned'})\n",
    "revenue_by_churn = df.groupby('Churn Value')['Monthly Charges'].sum().reset_index()\n",
    "\n",
    "fig = px.bar(revenue_by_churn, x='Churn Value', y='Monthly Charges',\n",
    "             color='Churn Value', text='Monthly Charges',\n",
    "             title='Monthly Revenue Comparison: Churned vs Retained',\n",
    "             labels={'Monthly Charges': 'Total Monthly Revenue ($)'})\n",
    "fig.update_traces(texttemplate='$%{text:,.0f}', textposition='outside')\n",
    "fig.update_layout(uniformtext_minsize=6, uniformtext_mode='hide')\n",
    "fig.show()"
   ]
  },
  {
   "cell_type": "markdown",
   "id": "f504b21f-48f1-4f6a-834f-bb716673edaa",
   "metadata": {},
   "source": [
    "### Interactive Dashboard"
   ]
  },
  {
   "cell_type": "code",
   "execution_count": 95,
   "id": "b9928dce-0119-43d9-bd93-1c4f6ff76cd7",
   "metadata": {},
   "outputs": [
    {
     "data": {
      "text/html": [
       "\n",
       "        <iframe\n",
       "            width=\"100%\"\n",
       "            height=\"650\"\n",
       "            src=\"http://127.0.0.1:8094/\"\n",
       "            frameborder=\"0\"\n",
       "            allowfullscreen\n",
       "            \n",
       "        ></iframe>\n",
       "        "
      ],
      "text/plain": [
       "<IPython.lib.display.IFrame at 0x1db44cb5110>"
      ]
     },
     "metadata": {},
     "output_type": "display_data"
    }
   ],
   "source": [
    "# DATA PREPROCESSING\n",
    "\n",
    "# Gender mapping\n",
    "df[\"Gender\"] = df[\"Gender\"].replace({1: \"Male\", 0: \"Female\"}).fillna(df[\"Gender\"])\n",
    "\n",
    "# Create a Contract Status column\n",
    "def map_contract(row):\n",
    "    if row['Contract_One year'] == 1:\n",
    "        return 'One Year'\n",
    "    elif row['Contract_Two year'] == 1:\n",
    "        return 'Two Year'\n",
    "    else:\n",
    "        return 'Month-to-Month'\n",
    "\n",
    "df['Contract_Status'] = df.apply(map_contract, axis=1)\n",
    "\n",
    "# Prepare data for model input\n",
    "df_encoded = pd.get_dummies(df)\n",
    "for col in feature_names:\n",
    "    if col not in df_encoded.columns:\n",
    "        df_encoded[col] = 0\n",
    "X = df_encoded[feature_names]\n",
    "\n",
    "# Predict churn\n",
    "df[\"Predicted Churn\"] = gbdt_model.predict(X)\n",
    "df[\"Churn Risk\"] = df[\"Predicted Churn\"].apply(lambda x: \"High\" if x == 1 else \"Low\")\n",
    "\n",
    "\n",
    "# DASH APP LAYOUT\n",
    "app = dash.Dash(__name__, title=\"Taco-Tel's Churn Dashboard\")\n",
    "\n",
    "app.layout = html.Div([\n",
    "    html.H1(\"📊 Taco-Tel's Churn Analysis Dashboard\", style={'textAlign': 'center'}),\n",
    "\n",
    "    html.Div([\n",
    "        html.Div([\n",
    "            html.Label(\"Filter by Gender:\"),\n",
    "            dcc.Dropdown(\n",
    "                options=[{\"label\": gender, \"value\": gender} for gender in df[\"Gender\"].unique()],\n",
    "                id=\"gender-filter\",\n",
    "                placeholder=\"Select Gender\",\n",
    "                multi=True\n",
    "            ),\n",
    "        ], style={'width': '30%', 'display': 'inline-block'}),\n",
    "\n",
    "        html.Div([\n",
    "            html.Label(\"Filter by Contract Type:\"),\n",
    "            dcc.Dropdown(\n",
    "                options=[{\"label\": status, \"value\": status} for status in df[\"Contract_Status\"].unique()],\n",
    "                id=\"contract-filter\",\n",
    "                placeholder=\"Select Contract Type\",\n",
    "                multi=True\n",
    "            ),\n",
    "        ], style={'width': '30%', 'display': 'inline-block', 'marginLeft': '2%'}),\n",
    "\n",
    "        html.Div([\n",
    "            html.Label(\"Simulate Churn Reduction (%):\"),\n",
    "            dcc.Slider(id='churn-slider', min=0, max=100, step=5, value=0,\n",
    "                       marks={i: f\"{i}%\" for i in range(0, 101, 20)})\n",
    "        ], style={'width': '35%', 'float': 'right'}),\n",
    "    ], style={'marginBottom': '30px'}),\n",
    "\n",
    "    dcc.Tabs([\n",
    "        dcc.Tab(label=\"📉 Churn Overview\", children=[\n",
    "            dcc.Graph(id='churn-overview'),\n",
    "            dcc.Graph(id='revenue-impact'),\n",
    "        ]),\n",
    "        dcc.Tab(label=\"📈 Tenure vs Churn\", children=[\n",
    "            dcc.Graph(id='tenure-vs-churn')\n",
    "        ]),\n",
    "        dcc.Tab(label=\"🌍 Churn by City\", children=[\n",
    "            dcc.Graph(id='churn-map')\n",
    "        ]),\n",
    "        dcc.Tab(label=\"🎯 Subscriber Segmentation\", children=[\n",
    "            dcc.Graph(id='segmentation-view')\n",
    "        ]),\n",
    "        dcc.Tab(label=\"📦 Charges vs Tenure\", children=[\n",
    "            dcc.Graph(id='charges-tenure')\n",
    "        ]),\n",
    "        dcc.Tab(label=\"💸 CLTV Distribution\", children=[\n",
    "            dcc.Graph(id='cltv-distribution')\n",
    "        ]),\n",
    "        dcc.Tab(label=\"🏙️ Top 10 Churning Cities\", children=[\n",
    "            dcc.Graph(id='top-churn-cities')\n",
    "        ]),\n",
    "        dcc.Tab(label=\"📤 Export Data\", children=[\n",
    "            html.Button(\"Download CSV\", id=\"download-btn\"),\n",
    "            dcc.Download(id=\"download-dataframe-csv\")\n",
    "        ]),\n",
    "    ])\n",
    "])\n",
    "\n",
    "\n",
    "# CALLBACKS\n",
    "def filter_data(gender, contract):\n",
    "    df_filtered = df.copy()\n",
    "    if gender:\n",
    "        df_filtered = df_filtered[df_filtered[\"Gender\"].isin(gender)]\n",
    "    if contract:\n",
    "        df_filtered = df_filtered[df_filtered[\"Contract_Status\"].isin(contract)]\n",
    "    return df_filtered\n",
    "\n",
    "@app.callback(\n",
    "    Output(\"churn-overview\", \"figure\"),\n",
    "    Input(\"gender-filter\", \"value\"),\n",
    "    Input(\"contract-filter\", \"value\")\n",
    ")\n",
    "def update_churn_chart(gender, contract):\n",
    "    data = filter_data(gender, contract)\n",
    "    churn = data[\"Predicted Churn\"].value_counts(normalize=True)\n",
    "    return px.pie(values=churn.values, names=[\"Not Churned\", \"Churned\"],\n",
    "                  title=\"Predicted Churn Distribution\")\n",
    "\n",
    "@app.callback(\n",
    "    Output(\"revenue-impact\", \"figure\"),\n",
    "    Input(\"churn-slider\", \"value\")\n",
    ")\n",
    "def simulate_revenue_loss(percent):\n",
    "    loss_now = df[df[\"Predicted Churn\"] == 1][\"Monthly Charges\"].sum()\n",
    "    loss_reduced = loss_now * (1 - percent / 100)\n",
    "    return px.bar(x=[\"Current Loss\", f\"Reduced Loss ({percent}%)\"], y=[loss_now, loss_reduced],\n",
    "                  labels={\"x\": \"Scenario\", \"y\": \"Revenue Loss ($)\"},\n",
    "                  title=\"Revenue Loss Simulation\")\n",
    "\n",
    "@app.callback(\n",
    "    Output(\"tenure-vs-churn\", \"figure\"),\n",
    "    Input(\"gender-filter\", \"value\"),\n",
    "    Input(\"contract-filter\", \"value\")\n",
    ")\n",
    "def churn_by_tenure(gender, contract):\n",
    "    data = filter_data(gender, contract)\n",
    "    grouped = data.groupby(\"Tenure Months\")[\"Predicted Churn\"].mean().reset_index()\n",
    "    return px.line(grouped, x=\"Tenure Months\", y=\"Predicted Churn\", title=\"Churn vs Tenure\")\n",
    "\n",
    "@app.callback(\n",
    "    Output('churn-map', 'figure'),\n",
    "    Input('gender-filter', 'value'),\n",
    "    Input('contract-filter', 'value')\n",
    ")\n",
    "def update_churn_by_city(gender, contract):\n",
    "    df_filtered = df.copy()\n",
    "\n",
    "    # Apply filters\n",
    "    if gender:\n",
    "        df_filtered = df_filtered[df_filtered['Gender'].isin(gender)]\n",
    "    if contract:\n",
    "        df_filtered = df_filtered[df_filtered['Contract_One year'].isin(contract)]\n",
    "\n",
    "    # Group by city and calculate average predicted churn\n",
    "    city_churn = df_filtered.groupby('City', as_index=False)['Predicted Churn'].mean()\n",
    "    city_churn.columns = ['City', 'Churn Rate']\n",
    "    city_churn = city_churn.sort_values(by='Churn Rate', ascending=False).head(30)\n",
    "\n",
    "    # Plot\n",
    "    fig = px.bar(\n",
    "        city_churn,\n",
    "        x='City',\n",
    "        y='Churn Rate',\n",
    "        color='Churn Rate',\n",
    "        title='Top Cities by Churn Rate',\n",
    "        color_continuous_scale='Reds'\n",
    "    )\n",
    "\n",
    "    fig.update_layout(xaxis_tickangle=45)\n",
    "    return fig\n",
    "\n",
    "@app.callback(\n",
    "    Output(\"segmentation-view\", \"figure\"),\n",
    "    Input(\"gender-filter\", \"value\"),\n",
    "    Input(\"contract-filter\", \"value\")\n",
    ")\n",
    "def segment_by_churn(gender, contract):\n",
    "    data = filter_data(gender, contract)\n",
    "    return px.histogram(data, x=\"Churn Risk\", color=\"Gender\", barmode=\"group\",\n",
    "                        title=\"Subscriber Segments by Churn Risk\")\n",
    "\n",
    "@app.callback(\n",
    "    Output(\"charges-tenure\", \"figure\"),\n",
    "    Input(\"gender-filter\", \"value\"),\n",
    "    Input(\"contract-filter\", \"value\")\n",
    ")\n",
    "def charges_vs_tenure(gender, contract):\n",
    "    data = filter_data(gender, contract)\n",
    "    return px.scatter(data, x=\"Tenure Months\", y=\"Monthly Charges\", size=\"CLTV\",\n",
    "                      color=\"Predicted Churn\", title=\"Charges vs Tenure\")\n",
    "\n",
    "@app.callback(\n",
    "    Output(\"cltv-distribution\", \"figure\"),\n",
    "    Input(\"gender-filter\", \"value\"),\n",
    "    Input(\"contract-filter\", \"value\")\n",
    ")\n",
    "def cltv_hist(gender, contract):\n",
    "    data = filter_data(gender, contract)\n",
    "    return px.histogram(data, x=\"CLTV\", color=\"Predicted Churn\", nbins=40,\n",
    "                        title=\"CLTV Distribution by Churn Risk\")\n",
    "\n",
    "@app.callback(\n",
    "    Output(\"top-churn-cities\", \"figure\"),\n",
    "    Input(\"gender-filter\", \"value\"),\n",
    "    Input(\"contract-filter\", \"value\")\n",
    ")\n",
    "def top_churn_cities(gender, contract):\n",
    "    data = filter_data(gender, contract)\n",
    "    churned = data[data[\"Predicted Churn\"] == 1]\n",
    "    top_cities = churned[\"City\"].value_counts().nlargest(10).reset_index()\n",
    "    top_cities.columns = [\"City\", \"Churn Count\"]\n",
    "    return px.bar(top_cities, x=\"City\", y=\"Churn Count\", title=\"Top Churn Cities\")\n",
    "\n",
    "@app.callback(\n",
    "    Output(\"download-dataframe-csv\", \"data\"),\n",
    "    Input(\"download-btn\", \"n_clicks\"),\n",
    "    prevent_initial_call=True,\n",
    ")\n",
    "def download_csv(n_clicks):\n",
    "    return dcc.send_data_frame(df.to_csv, \"Telco_Predictions.csv\")\n",
    "\n",
    "\n",
    "# RUN\n",
    "if __name__ == \"__main__\":\n",
    "    app.run(debug=True, port=8094)\n"
   ]
  },
  {
   "cell_type": "markdown",
   "id": "3cc97ea0-6d00-4456-8caa-81bf87cba322",
   "metadata": {},
   "source": [
    "### References"
   ]
  },
  {
   "cell_type": "markdown",
   "id": "a6fba2d0-9467-4e90-ba30-2b34d9b648ef",
   "metadata": {},
   "source": [
    "### Anmol Tomar. March 17, 2021. Dash for Beginners: Create Interactive Python Dashboards. Towards Data Science. https://towardsdatascience.com/dash-for-beginners-create-interactive-python-dashboards-338bfcb6ffa4/\n",
    "### Python Geeks Team. N.d. Develop Data Visualization Interfaces in Python With Dash. https://pythongeeks.org/data-visualization-with-python-dash/"
   ]
  },
  {
   "cell_type": "code",
   "execution_count": null,
   "id": "3595070b-5643-4065-a4d6-57868cf740ad",
   "metadata": {},
   "outputs": [],
   "source": []
  }
 ],
 "metadata": {
  "kernelspec": {
   "display_name": "Python 3 (ipykernel)",
   "language": "python",
   "name": "python3"
  },
  "language_info": {
   "codemirror_mode": {
    "name": "ipython",
    "version": 3
   },
   "file_extension": ".py",
   "mimetype": "text/x-python",
   "name": "python",
   "nbconvert_exporter": "python",
   "pygments_lexer": "ipython3",
   "version": "3.11.7"
  }
 },
 "nbformat": 4,
 "nbformat_minor": 5
}
